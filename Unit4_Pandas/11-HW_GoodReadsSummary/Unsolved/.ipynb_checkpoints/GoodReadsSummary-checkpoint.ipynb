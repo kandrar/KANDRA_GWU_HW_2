{
 "cells": [
  {
   "cell_type": "code",
   "execution_count": null,
   "metadata": {},
   "outputs": [],
   "source": [
    "# Import Dependencies\n",
    "import pandas as pd"
   ]
  },
  {
   "cell_type": "code",
   "execution_count": null,
   "metadata": {},
   "outputs": [],
   "source": [
    "# File to Load\n",
    "good_reads= \"Resources/books_clean.csv\"\n",
    "\n",
    "# Read the modified GoodReads csv and store into Pandas DataFrame\n",
    "good_reads_df=pd.read_csv(good_reads)\n"
   ]
  },
  {
   "cell_type": "code",
   "execution_count": null,
   "metadata": {},
   "outputs": [],
   "source": [
    "good_reads_df.describe()\n",
    "good_reads_df\n",
    "\n",
    "# Calculate the number of unique authors in the DataFrame\n",
    "#good_reads_df[\"Authors\"].head()\n",
    "good_reads_df[\"Authors\"].nunique()\n",
    "totalauth=good_reads_df[\"Authors\"].nunique()\n",
    "\n",
    "#totalauth\n",
    "\n",
    "# Calculate the earliest/latest year a book was published\n",
    "LatestYear = good_reads_df[\"Publication Year\"].max()\n",
    "EarliestYear = good_reads_df[\"Publication Year\"].min()\n",
    "\n",
    "#LatestYear\n",
    "#EarliestYear\n",
    "\n",
    "\n",
    "\n",
    "# Calculate the total reviews for the entire dataset\n",
    "\n",
    "\n",
    "totalreviews = good_reads_df[\"One Star Reviews\"].sum() + good_reads_df[\"Two Star Reviews\"].sum() + good_reads_df[\"Three Star Reviews\"].sum() + good_reads_df[\"Four Star Reviews\"].sum() + good_reads_df[\"Five Star Reviews\"].sum()\n",
    "\n",
    "totalreviews\n",
    "\n",
    "# Hint: use the pandas' sum() method to get the sum for each row\n",
    "\n",
    "# Place all of the data found into a summary DataFrame--Dict as list\n",
    "\n",
    "good_reads_summary_df = pd.DataFrame({\"Total Unique Authors\": [totalauth],\n",
    "                              \"Earliest Year\": [EarliestYear],\n",
    "                              \"Latest Year\": [LatestYear],\n",
    "                              \"Total Reviews\": [totalreviews]})\n",
    "good_reads_summary_df\n"
   ]
  },
  {
   "cell_type": "code",
   "execution_count": null,
   "metadata": {},
   "outputs": [],
   "source": [
    "good_reads_summary_df.to_csv(\"Resources/books_clean.csv\")"
   ]
  },
  {
   "cell_type": "code",
   "execution_count": null,
   "metadata": {},
   "outputs": [],
   "source": []
  },
  {
   "cell_type": "code",
   "execution_count": null,
   "metadata": {},
   "outputs": [],
   "source": []
  }
 ],
 "metadata": {
  "kernelspec": {
   "display_name": "Python 3",
   "language": "python",
   "name": "python3"
  },
  "language_info": {
   "codemirror_mode": {
    "name": "ipython",
    "version": 3
   },
   "file_extension": ".py",
   "mimetype": "text/x-python",
   "name": "python",
   "nbconvert_exporter": "python",
   "pygments_lexer": "ipython3",
   "version": "3.7.4"
  }
 },
 "nbformat": 4,
 "nbformat_minor": 2
}
