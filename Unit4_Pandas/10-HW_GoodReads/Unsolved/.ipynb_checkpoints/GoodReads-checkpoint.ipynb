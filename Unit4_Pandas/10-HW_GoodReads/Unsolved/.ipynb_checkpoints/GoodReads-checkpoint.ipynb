{
 "cells": [
  {
   "cell_type": "code",
   "execution_count": null,
   "metadata": {},
   "outputs": [],
   "source": [
    "# Import Dependencies\n",
    "import pandas as pd"
   ]
  },
  {
   "cell_type": "code",
   "execution_count": null,
   "metadata": {},
   "outputs": [],
   "source": [
    "# Make a reference to the books.csv file path file_one_df = pd.read_csv(file_one)\n",
    "books_csv = \"Resources/books.csv\"\n",
    "\n",
    "# Import the books.csv file as a DataFdf = pd.read_csv(file_one)\n",
    "books_csv_df= pd.read_csv(books_csv)\n"
   ]
  },
  {
   "cell_type": "code",
   "execution_count": null,
   "metadata": {},
   "outputs": [],
   "source": [
    "# Remove unecessary columns from the DataFrame and save the new DataFrame\n",
    "# Only keep: \"isbn\", \"original_publication_year\", \"original_title\", \"authors\",\n",
    "# \"ratings_1\", \"ratings_2\", \"ratings_3\", \"ratings_4\", \"ratings_5\"\n",
    "\n",
    "booksrm_df = books_csv_df[['isbn', 'original_publication_year', 'original_title', 'authors', 'ratings_1', 'ratings_2', 'ratings_3', 'ratings_4', 'ratings_5']]\n",
    "booksrm_df"
   ]
  },
  {
   "cell_type": "code",
   "execution_count": null,
   "metadata": {},
   "outputs": [],
   "source": [
    "# Rename the headers to be more explanatory #create dict with new headers\n",
    "\n",
    "cols_to_rename = {\n",
    "    'isbn':'ISBN',\n",
    "    'original_publication_year':'Publication Year',\n",
    "    'original_title':'Original Title',\n",
    "    'authors':'Authors',\n",
    "    'ratings_1':'One Star Reviews',\n",
    "    'ratings_2':'Two Star Reviews',\n",
    "    'ratings_3':'Three Star Reviews',\n",
    "    'ratings_4':'Four Star Reviews',\n",
    "    'ratings_5':'Five Star Reviews'\n",
    "}\n",
    "\n",
    "booksheader_df_renamed = booksrm_df.rename(columns=cols_to_rename)\n",
    "booksheader_df_renamed"
   ]
  },
  {
   "cell_type": "code",
   "execution_count": 17,
   "metadata": {},
   "outputs": [],
   "source": [
    "# Push the remade DataFrame to a new CSV file\n",
    "\n",
    "booksheader_df_renamed.to_csv(\"output/books.csv\", index=False)\n",
    "\n"
   ]
  },
  {
   "cell_type": "code",
   "execution_count": null,
   "metadata": {},
   "outputs": [],
   "source": []
  }
 ],
 "metadata": {
  "kernelspec": {
   "display_name": "Python 3",
   "language": "python",
   "name": "python3"
  },
  "language_info": {
   "codemirror_mode": {
    "name": "ipython",
    "version": 3
   },
   "file_extension": ".py",
   "mimetype": "text/x-python",
   "name": "python",
   "nbconvert_exporter": "python",
   "pygments_lexer": "ipython3",
   "version": "3.7.4"
  }
 },
 "nbformat": 4,
 "nbformat_minor": 2
}
